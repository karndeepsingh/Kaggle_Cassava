{
 "cells": [
  {
   "cell_type": "code",
   "execution_count": 1,
   "metadata": {
    "_cell_guid": "b1076dfc-b9ad-4769-8c92-a6c4dae69d19",
    "_uuid": "8f2839f25d086af736a60e9eeb907d3b93b6e0e5",
    "execution": {
     "iopub.execute_input": "2021-01-29T07:04:32.141633Z",
     "iopub.status.busy": "2021-01-29T07:04:32.140907Z",
     "iopub.status.idle": "2021-01-29T07:04:37.662712Z",
     "shell.execute_reply": "2021-01-29T07:04:37.661244Z"
    },
    "papermill": {
     "duration": 5.562715,
     "end_time": "2021-01-29T07:04:37.662822",
     "exception": false,
     "start_time": "2021-01-29T07:04:32.100107",
     "status": "completed"
    },
    "tags": []
   },
   "outputs": [],
   "source": [
    "import os\n",
    "import glob\n",
    "import shutil\n",
    "import json\n",
    "import keras\n",
    "import itertools\n",
    "import numpy as np\n",
    "import pandas as pd\n",
    "import seaborn as sns\n",
    "import tensorflow as tf\n",
    "from PIL import Image\n",
    "import matplotlib.pyplot as plt\n",
    "from collections import Counter\n",
    "\n",
    "# Defining the working directories\n",
    "\n",
    "work_dir = '../input/cassava-leaf-disease-classification/'\n",
    "os.listdir(work_dir) \n",
    "train_path = '/kaggle/input/cassava-leaf-disease-classification/train_images'"
   ]
  },
  {
   "cell_type": "code",
   "execution_count": 2,
   "metadata": {
    "execution": {
     "iopub.execute_input": "2021-01-29T07:04:37.738912Z",
     "iopub.status.busy": "2021-01-29T07:04:37.738344Z",
     "iopub.status.idle": "2021-01-29T07:04:37.776137Z",
     "shell.execute_reply": "2021-01-29T07:04:37.776741Z"
    },
    "papermill": {
     "duration": 0.077659,
     "end_time": "2021-01-29T07:04:37.776907",
     "exception": false,
     "start_time": "2021-01-29T07:04:37.699248",
     "status": "completed"
    },
    "tags": []
   },
   "outputs": [
    {
     "name": "stdout",
     "output_type": "stream",
     "text": [
      "Counter({3: 13158, 4: 2577, 2: 2386, 1: 2189, 0: 1087})\n"
     ]
    }
   ],
   "source": [
    "data = pd.read_csv(work_dir + 'train.csv')\n",
    "print(Counter(data['label'])) # Checking the frequencies of the labels"
   ]
  },
  {
   "cell_type": "markdown",
   "metadata": {
    "_cell_guid": "79c7e3d0-c299-4dcb-8224-4455121ee9b0",
    "_uuid": "d629ff2d2480ee46fbb7e2d37f6b5fab8052498a",
    "collapsed": true,
    "papermill": {
     "duration": 0.033049,
     "end_time": "2021-01-29T07:04:37.844304",
     "exception": false,
     "start_time": "2021-01-29T07:04:37.811255",
     "status": "completed"
    },
    "tags": []
   },
   "source": [
    "# Read data "
   ]
  },
  {
   "cell_type": "code",
   "execution_count": 3,
   "metadata": {
    "execution": {
     "iopub.execute_input": "2021-01-29T07:04:37.955036Z",
     "iopub.status.busy": "2021-01-29T07:04:37.954477Z",
     "iopub.status.idle": "2021-01-29T07:04:48.906712Z",
     "shell.execute_reply": "2021-01-29T07:04:48.906249Z"
    },
    "papermill": {
     "duration": 10.9971,
     "end_time": "2021-01-29T07:04:48.906814",
     "exception": false,
     "start_time": "2021-01-29T07:04:37.909714",
     "status": "completed"
    },
    "tags": []
   },
   "outputs": [
    {
     "name": "stdout",
     "output_type": "stream",
     "text": [
      "Found 20327 validated image filenames belonging to 5 classes.\n",
      "Found 1070 validated image filenames belonging to 5 classes.\n"
     ]
    }
   ],
   "source": [
    "f = open(work_dir + 'label_num_to_disease_map.json')\n",
    "real_labels = json.load(f)\n",
    "real_labels = {int(k):v for k,v in real_labels.items()}\n",
    "\n",
    "# Defining the working dataset\n",
    "data['class_name'] = data.label.map(real_labels)\n",
    "\n",
    "# Spliting the data\n",
    "from sklearn.model_selection import train_test_split\n",
    "\n",
    "train,val = train_test_split(data, test_size = 0.05, random_state = 42, stratify = data['class_name'])\n",
    "\n",
    "# Importing the data using ImageDataGenerator\n",
    "\n",
    "from keras.preprocessing.image import ImageDataGenerator\n",
    "\n",
    "IMG_SIZE = 456\n",
    "size = (IMG_SIZE,IMG_SIZE)\n",
    "n_CLASS = 5\n",
    "BATCH_SIZE = 15\n",
    "\n",
    "datagen_train = ImageDataGenerator(\n",
    "                    preprocessing_function = tf.keras.applications.efficientnet.preprocess_input,\n",
    "                    rotation_range = 40,\n",
    "                    width_shift_range = 0.2,\n",
    "                    height_shift_range = 0.2,\n",
    "                    shear_range = 0.2,\n",
    "                    zoom_range = 0.2,\n",
    "                    horizontal_flip = True,\n",
    "                    vertical_flip = True,\n",
    "                    fill_mode = 'nearest')\n",
    "\n",
    "datagen_val = ImageDataGenerator(\n",
    "                    preprocessing_function = tf.keras.applications.efficientnet.preprocess_input,\n",
    "                    )\n",
    "\n",
    "train_set = datagen_train.flow_from_dataframe(train,\n",
    "                             directory = train_path,\n",
    "                             seed=42,\n",
    "                             x_col = 'image_id',\n",
    "                             y_col = 'class_name',\n",
    "                             target_size = size,\n",
    "                             #color_mode=\"rgb\",\n",
    "                             class_mode = 'categorical',\n",
    "                             interpolation = 'nearest',\n",
    "                             shuffle = True,\n",
    "                             batch_size = BATCH_SIZE)\n",
    "\n",
    "val_set = datagen_val.flow_from_dataframe(val,\n",
    "                             directory = train_path,\n",
    "                             seed=42,\n",
    "                             x_col = 'image_id',\n",
    "                             y_col = 'class_name',\n",
    "                             target_size = size,\n",
    "                             #color_mode=\"rgb\",\n",
    "                             class_mode = 'categorical',\n",
    "                             interpolation = 'nearest',\n",
    "                             shuffle = True,\n",
    "                             batch_size = BATCH_SIZE)"
   ]
  },
  {
   "cell_type": "code",
   "execution_count": 4,
   "metadata": {
    "execution": {
     "iopub.execute_input": "2021-01-29T07:04:48.978449Z",
     "iopub.status.busy": "2021-01-29T07:04:48.977736Z",
     "iopub.status.idle": "2021-01-29T07:04:48.980725Z",
     "shell.execute_reply": "2021-01-29T07:04:48.980278Z"
    },
    "papermill": {
     "duration": 0.039884,
     "end_time": "2021-01-29T07:04:48.980809",
     "exception": false,
     "start_time": "2021-01-29T07:04:48.940925",
     "status": "completed"
    },
    "tags": []
   },
   "outputs": [],
   "source": [
    "# from keras.models import Sequential\n",
    "# from keras.layers import GlobalAveragePooling2D, Flatten, Dense, Dropout, BatchNormalization\n",
    "# from keras.optimizers import RMSprop, Adam\n",
    "# from keras.callbacks import EarlyStopping, ModelCheckpoint, ReduceLROnPlateau\n",
    "# from tensorflow.keras.applications import EfficientNetB3\n",
    "\n",
    "# def create_model():\n",
    "    \n",
    "#     model = Sequential()\n",
    "#     # initialize the model with input shape\n",
    "#     model.add(EfficientNetB3(input_shape = (IMG_SIZE, IMG_SIZE, 3), include_top = False,\n",
    "#                              weights = 'imagenet',\n",
    "#                              drop_connect_rate=0.6))\n",
    "#     #for layer in model.layers[:-40]:  # Training just part of the architecture do not optimize the performance\n",
    "#     #    layer.trainable = False\n",
    "#     model.add(GlobalAveragePooling2D())\n",
    "#     model.add(Flatten())\n",
    "#     model.add(Dense(256, activation = 'relu', bias_regularizer=tf.keras.regularizers.L1L2(l1=0.01, l2=0.001)))\n",
    "#     model.add(Dropout(0.5))\n",
    "#     model.add(Dense(n_CLASS, activation = 'softmax'))\n",
    "    \n",
    "#     return model\n",
    "\n",
    "# leaf_model = create_model()\n",
    "# leaf_model.summary()"
   ]
  },
  {
   "cell_type": "code",
   "execution_count": 5,
   "metadata": {
    "execution": {
     "iopub.execute_input": "2021-01-29T07:04:49.051459Z",
     "iopub.status.busy": "2021-01-29T07:04:49.050736Z",
     "iopub.status.idle": "2021-01-29T07:04:49.053621Z",
     "shell.execute_reply": "2021-01-29T07:04:49.053216Z"
    },
    "papermill": {
     "duration": 0.039176,
     "end_time": "2021-01-29T07:04:49.053708",
     "exception": false,
     "start_time": "2021-01-29T07:04:49.014532",
     "status": "completed"
    },
    "tags": []
   },
   "outputs": [],
   "source": [
    "# EPOCHS = 15\n",
    "# STEP_SIZE_TRAIN = train_set.n//train_set.batch_size\n",
    "# STEP_SIZE_VALID = val_set.n//val_set.batch_size"
   ]
  },
  {
   "cell_type": "code",
   "execution_count": 6,
   "metadata": {
    "execution": {
     "iopub.execute_input": "2021-01-29T07:04:49.125693Z",
     "iopub.status.busy": "2021-01-29T07:04:49.124898Z",
     "iopub.status.idle": "2021-01-29T07:04:49.127694Z",
     "shell.execute_reply": "2021-01-29T07:04:49.127274Z"
    },
    "papermill": {
     "duration": 0.04074,
     "end_time": "2021-01-29T07:04:49.127780",
     "exception": false,
     "start_time": "2021-01-29T07:04:49.087040",
     "status": "completed"
    },
    "tags": []
   },
   "outputs": [],
   "source": [
    "# def Model_fit():\n",
    "    \n",
    "#     #leaf_model = None\n",
    "    \n",
    "#     leaf_model = create_model()\n",
    "    \n",
    "#     '''Compiling the model'''\n",
    "    \n",
    "#     loss = tf.keras.losses.CategoricalCrossentropy(from_logits = False,\n",
    "#                                                    label_smoothing=0.0001,\n",
    "#                                                    name='categorical_crossentropy' )\n",
    "    \n",
    "#     leaf_model.compile(optimizer = Adam(learning_rate = 1e-3),\n",
    "#                         loss = loss, #'categorical_crossentropy'\n",
    "#                         metrics = ['categorical_accuracy']) #'acc'\n",
    "    \n",
    "#     # Stop training when the val_loss has stopped decreasing for 3 epochs.\n",
    "#     es = EarlyStopping(monitor='val_loss', mode='min', patience=3,\n",
    "#                        restore_best_weights=True, verbose=1)\n",
    "    \n",
    "#     # Save the model with the minimum validation loss\n",
    "#     checkpoint_cb = ModelCheckpoint(\"Cassava_best_model.h5\",\n",
    "#                                     save_best_only=True,\n",
    "#                                     monitor = 'val_loss',\n",
    "#                                     mode='min')\n",
    "    \n",
    "#     # reduce learning rate\n",
    "#     reduce_lr = ReduceLROnPlateau(monitor = 'val_loss',\n",
    "#                                   factor = 0.2,\n",
    "#                                   patience = 2,\n",
    "#                                   min_lr = 1e-6,\n",
    "#                                   mode = 'min',\n",
    "#                                   verbose = 1)\n",
    "    \n",
    "#     history = leaf_model.fit(train_set,\n",
    "#                              validation_data = val_set,\n",
    "#                              epochs= EPOCHS,\n",
    "#                              batch_size = BATCH_SIZE,\n",
    "#                              #class_weight = d_class_weights,\n",
    "#                              steps_per_epoch = STEP_SIZE_TRAIN,\n",
    "#                              validation_steps = STEP_SIZE_VALID,\n",
    "#                              callbacks=[es, checkpoint_cb, reduce_lr])\n",
    "    \n",
    "#     leaf_model.save('Cassava_model'+'.h5')  \n",
    "    \n",
    "#     return history"
   ]
  },
  {
   "cell_type": "code",
   "execution_count": 7,
   "metadata": {
    "execution": {
     "iopub.execute_input": "2021-01-29T07:04:49.198086Z",
     "iopub.status.busy": "2021-01-29T07:04:49.197413Z",
     "iopub.status.idle": "2021-01-29T07:04:49.199892Z",
     "shell.execute_reply": "2021-01-29T07:04:49.200352Z"
    },
    "papermill": {
     "duration": 0.039264,
     "end_time": "2021-01-29T07:04:49.200456",
     "exception": false,
     "start_time": "2021-01-29T07:04:49.161192",
     "status": "completed"
    },
    "tags": []
   },
   "outputs": [],
   "source": [
    "# results = Model_fit()"
   ]
  },
  {
   "cell_type": "markdown",
   "metadata": {
    "papermill": {
     "duration": 0.033546,
     "end_time": "2021-01-29T07:04:49.267435",
     "exception": false,
     "start_time": "2021-01-29T07:04:49.233889",
     "status": "completed"
    },
    "tags": []
   },
   "source": [
    "# Albumentation"
   ]
  },
  {
   "cell_type": "code",
   "execution_count": 8,
   "metadata": {
    "execution": {
     "iopub.execute_input": "2021-01-29T07:04:49.339118Z",
     "iopub.status.busy": "2021-01-29T07:04:49.338323Z",
     "iopub.status.idle": "2021-01-29T07:04:49.341142Z",
     "shell.execute_reply": "2021-01-29T07:04:49.340598Z"
    },
    "papermill": {
     "duration": 0.039956,
     "end_time": "2021-01-29T07:04:49.341229",
     "exception": false,
     "start_time": "2021-01-29T07:04:49.301273",
     "status": "completed"
    },
    "tags": []
   },
   "outputs": [],
   "source": [
    "# !pip install git+https://github.com/mjkvaak/ImageDataAugmentor"
   ]
  },
  {
   "cell_type": "code",
   "execution_count": 9,
   "metadata": {
    "execution": {
     "iopub.execute_input": "2021-01-29T07:04:49.412150Z",
     "iopub.status.busy": "2021-01-29T07:04:49.411467Z",
     "iopub.status.idle": "2021-01-29T07:04:49.414426Z",
     "shell.execute_reply": "2021-01-29T07:04:49.413972Z"
    },
    "papermill": {
     "duration": 0.039766,
     "end_time": "2021-01-29T07:04:49.414515",
     "exception": false,
     "start_time": "2021-01-29T07:04:49.374749",
     "status": "completed"
    },
    "tags": []
   },
   "outputs": [],
   "source": [
    "# image_size = 300"
   ]
  },
  {
   "cell_type": "code",
   "execution_count": 10,
   "metadata": {
    "execution": {
     "iopub.execute_input": "2021-01-29T07:04:49.487225Z",
     "iopub.status.busy": "2021-01-29T07:04:49.486404Z",
     "iopub.status.idle": "2021-01-29T07:04:49.488879Z",
     "shell.execute_reply": "2021-01-29T07:04:49.489284Z"
    },
    "papermill": {
     "duration": 0.040946,
     "end_time": "2021-01-29T07:04:49.489402",
     "exception": false,
     "start_time": "2021-01-29T07:04:49.448456",
     "status": "completed"
    },
    "tags": []
   },
   "outputs": [],
   "source": [
    "# from ImageDataAugmentor.image_data_augmentor import *\n",
    "# import albumentations as A\n",
    "\n",
    "# train_augmentations = A.Compose([\n",
    "#             A.RandomCrop(image_size, image_size, p=1),\n",
    "#             A.CoarseDropout(p=0.5),\n",
    "#             A.Cutout(p=0.5),\n",
    "#             A.Flip(p=0.5),\n",
    "#             A.ShiftScaleRotate(p=0.5),\n",
    "#             A.HueSaturationValue(p=0.5, hue_shift_limit=0.2, sat_shift_limit=0.2, val_shift_limit=0.2),\n",
    "#             A.RandomBrightnessContrast(p=0.5, brightness_limit=(-0.2,0.2), contrast_limit=(-0.2, 0.2)),\n",
    "#             A.Normalize(mean=[0.485, 0.456, 0.406], std=[0.229, 0.224, 0.225], max_pixel_value=255.0, p=1.0),\n",
    "#             A.ToFloat()\n",
    "#             ], p=1)\n",
    "\n",
    "# val_augmentations = A.Compose([\n",
    "#                 A.CenterCrop(image_size, image_size, p=1),\n",
    "#                 A.Normalize(mean=[0.485, 0.456, 0.406], std=[0.229, 0.224, 0.225], max_pixel_value=255.0, p=1.0),\n",
    "#                 A.ToFloat()\n",
    "#                 ], p=1)"
   ]
  },
  {
   "cell_type": "code",
   "execution_count": 11,
   "metadata": {
    "execution": {
     "iopub.execute_input": "2021-01-29T07:04:49.561658Z",
     "iopub.status.busy": "2021-01-29T07:04:49.560913Z",
     "iopub.status.idle": "2021-01-29T07:04:49.563810Z",
     "shell.execute_reply": "2021-01-29T07:04:49.563392Z"
    },
    "papermill": {
     "duration": 0.039948,
     "end_time": "2021-01-29T07:04:49.563900",
     "exception": false,
     "start_time": "2021-01-29T07:04:49.523952",
     "status": "completed"
    },
    "tags": []
   },
   "outputs": [],
   "source": [
    "# input_shape = (image_size, image_size, 3)\n",
    "# target_size = (image_size, image_size)\n",
    "# batch_size = 16"
   ]
  },
  {
   "cell_type": "code",
   "execution_count": 12,
   "metadata": {
    "execution": {
     "iopub.execute_input": "2021-01-29T07:04:49.636371Z",
     "iopub.status.busy": "2021-01-29T07:04:49.635663Z",
     "iopub.status.idle": "2021-01-29T07:04:49.638657Z",
     "shell.execute_reply": "2021-01-29T07:04:49.638162Z"
    },
    "papermill": {
     "duration": 0.040682,
     "end_time": "2021-01-29T07:04:49.638740",
     "exception": false,
     "start_time": "2021-01-29T07:04:49.598058",
     "status": "completed"
    },
    "tags": []
   },
   "outputs": [],
   "source": [
    "# import tensorflow as tf"
   ]
  },
  {
   "cell_type": "code",
   "execution_count": 13,
   "metadata": {
    "execution": {
     "iopub.execute_input": "2021-01-29T07:04:49.732735Z",
     "iopub.status.busy": "2021-01-29T07:04:49.731825Z",
     "iopub.status.idle": "2021-01-29T07:04:49.736014Z",
     "shell.execute_reply": "2021-01-29T07:04:49.736772Z"
    },
    "papermill": {
     "duration": 0.063904,
     "end_time": "2021-01-29T07:04:49.736950",
     "exception": false,
     "start_time": "2021-01-29T07:04:49.673046",
     "status": "completed"
    },
    "tags": []
   },
   "outputs": [],
   "source": [
    "# def TFDataGenerator(train_set, val_set):\n",
    "    \n",
    "#     train_generator = ImageDataAugmentor(augment=train_augmentations,featurewise_center=True, featurewise_std_normalization=True)\n",
    "#     val_generator = ImageDataAugmentor(augment=val_augmentations,featurewise_center=True, featurewise_std_normalization=True)\n",
    "    \n",
    "#     train_datagen = train_generator.flow_from_dataframe(\n",
    "#                   preprocessing_function = tf.keras.applications.efficientnet.preprocess_input,\n",
    "#                   dataframe = train_set,\n",
    "#                   directory='../input/cassava-leaf-disease-classification/train_images',\n",
    "#                   x_col='image_id',\n",
    "#                   y_col='label',\n",
    "#                   target_size=target_size,\n",
    "#                   batch_size=batch_size,\n",
    "#                   shuffle=True,\n",
    "#                   class_mode='categorical',\n",
    "#                   seed=88)\n",
    "\n",
    "#     val_datagen = val_generator.flow_from_dataframe(\n",
    "#                 preprocessing_function = tf.keras.applications.efficientnet.preprocess_input,\n",
    "#                 dataframe = val_set,\n",
    "#                 directory='../input/cassava-leaf-disease-classification/train_images',\n",
    "#                 x_col='image_id',\n",
    "#                 y_col='label',\n",
    "#                 target_size=target_size,\n",
    "#                 batch_size=batch_size,\n",
    "#                 shuffle=False,\n",
    "#                 class_mode='categorical',\n",
    "#                 seed=88)\n",
    "    \n",
    "#     return train_datagen, val_datagen"
   ]
  },
  {
   "cell_type": "markdown",
   "metadata": {
    "papermill": {
     "duration": 0.064232,
     "end_time": "2021-01-29T07:04:49.865640",
     "exception": false,
     "start_time": "2021-01-29T07:04:49.801408",
     "status": "completed"
    },
    "tags": []
   },
   "source": [
    "# EfficientNet and InceptionNet"
   ]
  },
  {
   "cell_type": "code",
   "execution_count": 14,
   "metadata": {
    "execution": {
     "iopub.execute_input": "2021-01-29T07:04:50.013288Z",
     "iopub.status.busy": "2021-01-29T07:04:50.012238Z",
     "iopub.status.idle": "2021-01-29T07:04:50.014896Z",
     "shell.execute_reply": "2021-01-29T07:04:50.014070Z"
    },
    "papermill": {
     "duration": 0.074692,
     "end_time": "2021-01-29T07:04:50.015046",
     "exception": false,
     "start_time": "2021-01-29T07:04:49.940354",
     "status": "completed"
    },
    "tags": []
   },
   "outputs": [],
   "source": [
    "# !wget https://storage.googleapis.com/keras-applications/efficientnetb3_notop.h5"
   ]
  },
  {
   "cell_type": "code",
   "execution_count": 15,
   "metadata": {
    "execution": {
     "iopub.execute_input": "2021-01-29T07:04:50.145997Z",
     "iopub.status.busy": "2021-01-29T07:04:50.144949Z",
     "iopub.status.idle": "2021-01-29T07:04:50.147398Z",
     "shell.execute_reply": "2021-01-29T07:04:50.146727Z"
    },
    "papermill": {
     "duration": 0.069786,
     "end_time": "2021-01-29T07:04:50.147527",
     "exception": false,
     "start_time": "2021-01-29T07:04:50.077741",
     "status": "completed"
    },
    "tags": []
   },
   "outputs": [],
   "source": [
    "# from tensorflow.keras.applications import InceptionV3\n",
    "# from tensorflow.keras.optimizers import Adam\n",
    "# from tensorflow.keras.optimizers import SGD\n",
    "# from tensorflow.keras.losses import CategoricalCrossentropy"
   ]
  },
  {
   "cell_type": "code",
   "execution_count": 16,
   "metadata": {
    "execution": {
     "iopub.execute_input": "2021-01-29T07:04:50.284657Z",
     "iopub.status.busy": "2021-01-29T07:04:50.279931Z",
     "iopub.status.idle": "2021-01-29T07:04:50.285644Z",
     "shell.execute_reply": "2021-01-29T07:04:50.285183Z"
    },
    "papermill": {
     "duration": 0.07974,
     "end_time": "2021-01-29T07:04:50.287463",
     "exception": false,
     "start_time": "2021-01-29T07:04:50.207723",
     "status": "completed"
    },
    "tags": []
   },
   "outputs": [],
   "source": [
    "# def create_Inception():\n",
    "#     base_model = InceptionV3(include_top=False, weights=\"imagenet\", input_shape=input_shape)\n",
    "\n",
    "#     # Rebuild top\n",
    "#     inputs = Input(shape=input_shape)\n",
    "\n",
    "#     model = base_model(inputs)\n",
    "#     pooling = GlobalAveragePooling2D()(model)\n",
    "#     dropout = Dropout(0.2)(pooling)\n",
    "\n",
    "#     outputs = Dense(5, activation=\"softmax\", name=\"dense\", dtype='float32')(dropout)\n",
    "\n",
    "#     # Compile\n",
    "#     inception = Model(inputs=inputs, outputs=outputs)\n",
    "#     optimizer = SGD(learning_rate=0.01, momentum=0.9, nesterov=True)\n",
    "#     loss = CategoricalCrossentropy(label_smoothing=0.2, from_logits=True)\n",
    "\n",
    "#     inception.compile(optimizer=optimizer, loss=loss, metrics=['accuracy'])\n",
    "#     return inception"
   ]
  },
  {
   "cell_type": "code",
   "execution_count": 17,
   "metadata": {
    "execution": {
     "iopub.execute_input": "2021-01-29T07:04:50.407238Z",
     "iopub.status.busy": "2021-01-29T07:04:50.406416Z",
     "iopub.status.idle": "2021-01-29T07:04:50.408514Z",
     "shell.execute_reply": "2021-01-29T07:04:50.407895Z"
    },
    "papermill": {
     "duration": 0.061798,
     "end_time": "2021-01-29T07:04:50.408624",
     "exception": false,
     "start_time": "2021-01-29T07:04:50.346826",
     "status": "completed"
    },
    "tags": []
   },
   "outputs": [],
   "source": [
    "# def create_EffnetB3():\n",
    "#     base_model = EfficientNetB3(include_top=False, weights=\"imagenet\", input_shape=input_shape, drop_connect_rate=0.6)\n",
    "\n",
    "#     # Rebuild top\n",
    "#     inputs = Input(shape=input_shape)\n",
    "\n",
    "#     model = base_model(inputs)\n",
    "#     gpool = GlobalAveragePooling2D()(model)\n",
    "#     flat = Flatten()(gpool)\n",
    "#     dense = Dense(256, activation = 'relu', bias_regularizer=tf.keras.regularizers.L1L2(l1=0.01, l2=0.001))(flat)\n",
    "#     drop = Dropout(0.5)(dense)\n",
    "#     outputs = Dense(5, activation = \"softmax\", dtype='float32')(drop)\n",
    "# #     model.add(Dense(256, activation = 'relu', bias_regularizer=tf.keras.regularizers.L1L2(l1=0.01, l2=0.001)))\n",
    "# #     model.add(Dropout(0.5))\n",
    "# #     model.add(Dense(n_CLASS, activation = 'softmax'))\n",
    "# #     pooling = GlobalAveragePooling2D()(model)\n",
    "# #     dropout = Dropout(0.2)(pooling)\n",
    "\n",
    "# #    outputs = Dense(5, activation=\"softmax\", name=\"dense\", dtype='float32')(dropout)\n",
    "\n",
    "#     # Compile\n",
    "#     efficientnet = Model(inputs=inputs, outputs=outputs)\n",
    "#     optimizer = SGD(learning_rate=0.01, momentum=0.9, nesterov=True)\n",
    "#     loss = CategoricalCrossentropy(label_smoothing=0.2, from_logits=True)\n",
    "\n",
    "#     efficientnet.compile(optimizer=optimizer, loss=loss, metrics=['accuracy'])\n",
    "#     return efficientnet"
   ]
  },
  {
   "cell_type": "markdown",
   "metadata": {
    "papermill": {
     "duration": 0.056017,
     "end_time": "2021-01-29T07:04:50.516484",
     "exception": false,
     "start_time": "2021-01-29T07:04:50.460467",
     "status": "completed"
    },
    "tags": []
   },
   "source": [
    "# Model run with folds"
   ]
  },
  {
   "cell_type": "code",
   "execution_count": 18,
   "metadata": {
    "execution": {
     "iopub.execute_input": "2021-01-29T07:04:50.601617Z",
     "iopub.status.busy": "2021-01-29T07:04:50.600794Z",
     "iopub.status.idle": "2021-01-29T07:04:50.604850Z",
     "shell.execute_reply": "2021-01-29T07:04:50.605472Z"
    },
    "papermill": {
     "duration": 0.052573,
     "end_time": "2021-01-29T07:04:50.605635",
     "exception": false,
     "start_time": "2021-01-29T07:04:50.553062",
     "status": "completed"
    },
    "tags": []
   },
   "outputs": [],
   "source": [
    "# epochs = 8"
   ]
  },
  {
   "cell_type": "code",
   "execution_count": 19,
   "metadata": {
    "execution": {
     "iopub.execute_input": "2021-01-29T07:04:50.718270Z",
     "iopub.status.busy": "2021-01-29T07:04:50.717414Z",
     "iopub.status.idle": "2021-01-29T07:04:50.719563Z",
     "shell.execute_reply": "2021-01-29T07:04:50.718930Z"
    },
    "papermill": {
     "duration": 0.062295,
     "end_time": "2021-01-29T07:04:50.719675",
     "exception": false,
     "start_time": "2021-01-29T07:04:50.657380",
     "status": "completed"
    },
    "tags": []
   },
   "outputs": [],
   "source": [
    "# def run_efficientnet(fold, df):\n",
    "#     train_set = df[df['kfold'] != fold]\n",
    "#     valid_set = df[df['kfold'] == fold]\n",
    "#     train_datagen, val_datagen = TFDataGenerator(train_set, valid_set)\n",
    "#     model = create_EffnetB3()\n",
    "    \n",
    "#     model_name = \"efficientnet\"\n",
    "#     fold_name = \"fold.h5\"\n",
    "#     filepath = model_name + str(fold+1) + fold_name\n",
    "#     callbacks = [ReduceLROnPlateau(monitor='val_loss', patience=1, verbose=1, factor=0.2),\n",
    "#                  EarlyStopping(monitor='val_loss', patience=3),\n",
    "#                  ModelCheckpoint(filepath=filepath, monitor='val_loss', save_best_only=True)]\n",
    "#     history = model.fit(train_datagen, epochs=epochs, validation_data=val_datagen, callbacks=callbacks)\n",
    "#     return 1\n"
   ]
  },
  {
   "cell_type": "code",
   "execution_count": 20,
   "metadata": {
    "execution": {
     "iopub.execute_input": "2021-01-29T07:04:50.837308Z",
     "iopub.status.busy": "2021-01-29T07:04:50.836446Z",
     "iopub.status.idle": "2021-01-29T07:04:50.838720Z",
     "shell.execute_reply": "2021-01-29T07:04:50.837965Z"
    },
    "papermill": {
     "duration": 0.0631,
     "end_time": "2021-01-29T07:04:50.838847",
     "exception": false,
     "start_time": "2021-01-29T07:04:50.775747",
     "status": "completed"
    },
    "tags": []
   },
   "outputs": [],
   "source": [
    "# def run_inceptionnet(fold, df):\n",
    "#     train_set = df[df['kfold'] != fold]\n",
    "#     valid_set = df[df['kfold'] == fold]\n",
    "#     train_datagen, val_datagen = TFDataGenerator(train_set, valid_set)\n",
    "#     model = create_Inception()\n",
    "    \n",
    "#     model_name = \"inceptionnet\"\n",
    "#     fold_name = \"fold.h5\"\n",
    "#     filepath = model_name + str(fold+1) + fold_name\n",
    "#     callbacks = [ReduceLROnPlateau(monitor='val_loss', patience=1, verbose=1, factor=0.2),\n",
    "#                  EarlyStopping(monitor='val_loss', patience=3),\n",
    "#                  ModelCheckpoint(filepath=filepath, monitor='val_loss', save_best_only=True)]\n",
    "#     history = model.fit(train_datagen, epochs=epochs, validation_data=val_datagen, callbacks=callbacks)\n",
    "#     return 1\n"
   ]
  },
  {
   "cell_type": "code",
   "execution_count": 21,
   "metadata": {
    "execution": {
     "iopub.execute_input": "2021-01-29T07:04:50.948321Z",
     "iopub.status.busy": "2021-01-29T07:04:50.947560Z",
     "iopub.status.idle": "2021-01-29T07:04:50.950452Z",
     "shell.execute_reply": "2021-01-29T07:04:50.951062Z"
    },
    "papermill": {
     "duration": 0.0446,
     "end_time": "2021-01-29T07:04:50.951186",
     "exception": false,
     "start_time": "2021-01-29T07:04:50.906586",
     "status": "completed"
    },
    "tags": []
   },
   "outputs": [],
   "source": [
    "# for fold in range(5):\n",
    "#     print(f\"Training fold {fold}\")\n",
    "#     run_efficientnet(fold, df)\n",
    "\n",
    "# for fold in range(5):\n",
    "#     print(f\"Training fold {fold}\")\n",
    "#     run_inceptionnet(fold, df)"
   ]
  },
  {
   "cell_type": "markdown",
   "metadata": {
    "papermill": {
     "duration": 0.035087,
     "end_time": "2021-01-29T07:04:51.023054",
     "exception": false,
     "start_time": "2021-01-29T07:04:50.987967",
     "status": "completed"
    },
    "tags": []
   },
   "source": [
    "# Inferences"
   ]
  },
  {
   "cell_type": "code",
   "execution_count": 22,
   "metadata": {
    "execution": {
     "iopub.execute_input": "2021-01-29T07:04:51.098307Z",
     "iopub.status.busy": "2021-01-29T07:04:51.097555Z",
     "iopub.status.idle": "2021-01-29T07:04:51.100447Z",
     "shell.execute_reply": "2021-01-29T07:04:51.100038Z"
    },
    "papermill": {
     "duration": 0.042268,
     "end_time": "2021-01-29T07:04:51.100535",
     "exception": false,
     "start_time": "2021-01-29T07:04:51.058267",
     "status": "completed"
    },
    "tags": []
   },
   "outputs": [],
   "source": [
    "from tensorflow.keras.models import Sequential, Model, load_model\n",
    "from tensorflow.keras.preprocessing.image import ImageDataGenerator\n",
    "import os"
   ]
  },
  {
   "cell_type": "code",
   "execution_count": 23,
   "metadata": {
    "execution": {
     "iopub.execute_input": "2021-01-29T07:04:51.176515Z",
     "iopub.status.busy": "2021-01-29T07:04:51.175665Z",
     "iopub.status.idle": "2021-01-29T07:04:51.178620Z",
     "shell.execute_reply": "2021-01-29T07:04:51.178215Z"
    },
    "papermill": {
     "duration": 0.042351,
     "end_time": "2021-01-29T07:04:51.178705",
     "exception": false,
     "start_time": "2021-01-29T07:04:51.136354",
     "status": "completed"
    },
    "tags": []
   },
   "outputs": [],
   "source": [
    "# weight_path = '../input/ensemblescassava'\n",
    "# my_model_list = os.listdir(weight_path)\n",
    "# models = []\n",
    "# for my_model in my_model_list:\n",
    "#     models.append(load_model(weight_path+\"/\"+my_model))"
   ]
  },
  {
   "cell_type": "code",
   "execution_count": 24,
   "metadata": {
    "execution": {
     "iopub.execute_input": "2021-01-29T07:04:51.254332Z",
     "iopub.status.busy": "2021-01-29T07:04:51.253624Z",
     "iopub.status.idle": "2021-01-29T07:04:51.256638Z",
     "shell.execute_reply": "2021-01-29T07:04:51.256204Z"
    },
    "papermill": {
     "duration": 0.04214,
     "end_time": "2021-01-29T07:04:51.256720",
     "exception": false,
     "start_time": "2021-01-29T07:04:51.214580",
     "status": "completed"
    },
    "tags": []
   },
   "outputs": [],
   "source": [
    "# model = load_model(\"../input/effnetcassava/Cassava_best_model.h5\")"
   ]
  },
  {
   "cell_type": "code",
   "execution_count": 25,
   "metadata": {
    "execution": {
     "iopub.execute_input": "2021-01-29T07:04:51.332074Z",
     "iopub.status.busy": "2021-01-29T07:04:51.331265Z",
     "iopub.status.idle": "2021-01-29T07:04:51.333818Z",
     "shell.execute_reply": "2021-01-29T07:04:51.333404Z"
    },
    "papermill": {
     "duration": 0.041466,
     "end_time": "2021-01-29T07:04:51.333905",
     "exception": false,
     "start_time": "2021-01-29T07:04:51.292439",
     "status": "completed"
    },
    "tags": []
   },
   "outputs": [],
   "source": [
    "# SEED = 42"
   ]
  },
  {
   "cell_type": "code",
   "execution_count": 26,
   "metadata": {
    "execution": {
     "iopub.execute_input": "2021-01-29T07:04:51.409512Z",
     "iopub.status.busy": "2021-01-29T07:04:51.408762Z",
     "iopub.status.idle": "2021-01-29T07:04:51.411109Z",
     "shell.execute_reply": "2021-01-29T07:04:51.411604Z"
    },
    "papermill": {
     "duration": 0.042104,
     "end_time": "2021-01-29T07:04:51.411704",
     "exception": false,
     "start_time": "2021-01-29T07:04:51.369600",
     "status": "completed"
    },
    "tags": []
   },
   "outputs": [],
   "source": [
    "# my_model_list"
   ]
  },
  {
   "cell_type": "code",
   "execution_count": 27,
   "metadata": {
    "execution": {
     "iopub.execute_input": "2021-01-29T07:04:51.492126Z",
     "iopub.status.busy": "2021-01-29T07:04:51.491095Z",
     "iopub.status.idle": "2021-01-29T07:04:51.494155Z",
     "shell.execute_reply": "2021-01-29T07:04:51.493640Z"
    },
    "papermill": {
     "duration": 0.046256,
     "end_time": "2021-01-29T07:04:51.494293",
     "exception": false,
     "start_time": "2021-01-29T07:04:51.448037",
     "status": "completed"
    },
    "tags": []
   },
   "outputs": [],
   "source": [
    "# import pandas as pd\n",
    "# import glob\n",
    "# import numpy as np"
   ]
  },
  {
   "cell_type": "code",
   "execution_count": 28,
   "metadata": {
    "execution": {
     "iopub.execute_input": "2021-01-29T07:04:51.573968Z",
     "iopub.status.busy": "2021-01-29T07:04:51.573204Z",
     "iopub.status.idle": "2021-01-29T07:04:51.575450Z",
     "shell.execute_reply": "2021-01-29T07:04:51.575873Z"
    },
    "papermill": {
     "duration": 0.042909,
     "end_time": "2021-01-29T07:04:51.575993",
     "exception": false,
     "start_time": "2021-01-29T07:04:51.533084",
     "status": "completed"
    },
    "tags": []
   },
   "outputs": [],
   "source": [
    "# !pwd"
   ]
  },
  {
   "cell_type": "code",
   "execution_count": 29,
   "metadata": {
    "execution": {
     "iopub.execute_input": "2021-01-29T07:04:51.655448Z",
     "iopub.status.busy": "2021-01-29T07:04:51.654615Z",
     "iopub.status.idle": "2021-01-29T07:04:51.657314Z",
     "shell.execute_reply": "2021-01-29T07:04:51.656797Z"
    },
    "papermill": {
     "duration": 0.0441,
     "end_time": "2021-01-29T07:04:51.657400",
     "exception": false,
     "start_time": "2021-01-29T07:04:51.613300",
     "status": "completed"
    },
    "tags": []
   },
   "outputs": [],
   "source": [
    "# os.chdir(\"../input/imagedataaugmentor/ImageDataAugmentor-master\")"
   ]
  },
  {
   "cell_type": "code",
   "execution_count": 30,
   "metadata": {
    "execution": {
     "iopub.execute_input": "2021-01-29T07:04:51.738141Z",
     "iopub.status.busy": "2021-01-29T07:04:51.737435Z",
     "iopub.status.idle": "2021-01-29T07:04:51.740309Z",
     "shell.execute_reply": "2021-01-29T07:04:51.739871Z"
    },
    "papermill": {
     "duration": 0.04422,
     "end_time": "2021-01-29T07:04:51.740400",
     "exception": false,
     "start_time": "2021-01-29T07:04:51.696180",
     "status": "completed"
    },
    "tags": []
   },
   "outputs": [],
   "source": [
    "# !ls"
   ]
  },
  {
   "cell_type": "code",
   "execution_count": 31,
   "metadata": {
    "execution": {
     "iopub.execute_input": "2021-01-29T07:04:51.818831Z",
     "iopub.status.busy": "2021-01-29T07:04:51.818144Z",
     "iopub.status.idle": "2021-01-29T07:04:51.821174Z",
     "shell.execute_reply": "2021-01-29T07:04:51.820712Z"
    },
    "papermill": {
     "duration": 0.044129,
     "end_time": "2021-01-29T07:04:51.821272",
     "exception": false,
     "start_time": "2021-01-29T07:04:51.777143",
     "status": "completed"
    },
    "tags": []
   },
   "outputs": [],
   "source": [
    "# from ImageDataAugmentor.image_data_augmentor import *\n",
    "# import albumentations as A\n",
    "\n",
    "# image_size = 300\n",
    "# input_shape = (image_size, image_size, 3)\n",
    "# target_size = (image_size, image_size)\n",
    "# batch_size = 16\n",
    "\n",
    "# test_augmentations = A.Compose([\n",
    "#             A.RandomCrop(image_size, image_size, p=1),\n",
    "#             A.CoarseDropout(p=0.5),\n",
    "#             A.Cutout(p=0.5),\n",
    "#             A.Flip(p=0.5),\n",
    "#             A.ShiftScaleRotate(p=0.5),\n",
    "#             A.HueSaturationValue(p=0.5, hue_shift_limit=0.2, sat_shift_limit=0.2, val_shift_limit=0.2),\n",
    "#             A.RandomBrightnessContrast(p=0.5, brightness_limit=(-0.2,0.2), contrast_limit=(-0.2, 0.2)),\n",
    "#             A.ToFloat()\n",
    "#             ], p=1)\n",
    "\n",
    "\n",
    "\n",
    "\n",
    "# def TFDataGenerator(test_set):\n",
    "    \n",
    "#     test_generator = ImageDataAugmentor(augment=test_augmentations)\n",
    "    \n",
    "#     test_datagen = test_generator.flow_from_dataframe(\n",
    "#                   dataframe = test_set,\n",
    "#                   x_col='path',\n",
    "#                   y_col = None,\n",
    "#                   class_mode = None,\n",
    "#                   target_size=target_size,\n",
    "#                   batch_size=batch_size,\n",
    "#                   shuffle=False)\n",
    "    \n",
    "#     return test_datagen"
   ]
  },
  {
   "cell_type": "code",
   "execution_count": 32,
   "metadata": {
    "execution": {
     "iopub.execute_input": "2021-01-29T07:04:51.899648Z",
     "iopub.status.busy": "2021-01-29T07:04:51.898807Z",
     "iopub.status.idle": "2021-01-29T07:04:51.901626Z",
     "shell.execute_reply": "2021-01-29T07:04:51.901178Z"
    },
    "papermill": {
     "duration": 0.043268,
     "end_time": "2021-01-29T07:04:51.901715",
     "exception": false,
     "start_time": "2021-01-29T07:04:51.858447",
     "status": "completed"
    },
    "tags": []
   },
   "outputs": [],
   "source": [
    "# INPUT_DIR = '/kaggle/input/cassava-leaf-disease-classification/'\n",
    "# TEST_IMAGE_DIR = INPUT_DIR + 'test_images'"
   ]
  },
  {
   "cell_type": "code",
   "execution_count": 33,
   "metadata": {
    "execution": {
     "iopub.execute_input": "2021-01-29T07:04:51.980048Z",
     "iopub.status.busy": "2021-01-29T07:04:51.979287Z",
     "iopub.status.idle": "2021-01-29T07:04:51.982178Z",
     "shell.execute_reply": "2021-01-29T07:04:51.981679Z"
    },
    "papermill": {
     "duration": 0.043057,
     "end_time": "2021-01-29T07:04:51.982271",
     "exception": false,
     "start_time": "2021-01-29T07:04:51.939214",
     "status": "completed"
    },
    "tags": []
   },
   "outputs": [],
   "source": [
    "# import glob\n",
    "# TEST_IMAGES = TEST_IMAGE_DIR + '/*.jpg'"
   ]
  },
  {
   "cell_type": "code",
   "execution_count": 34,
   "metadata": {
    "execution": {
     "iopub.execute_input": "2021-01-29T07:04:52.061209Z",
     "iopub.status.busy": "2021-01-29T07:04:52.060462Z",
     "iopub.status.idle": "2021-01-29T07:04:52.063444Z",
     "shell.execute_reply": "2021-01-29T07:04:52.062969Z"
    },
    "papermill": {
     "duration": 0.043625,
     "end_time": "2021-01-29T07:04:52.063527",
     "exception": false,
     "start_time": "2021-01-29T07:04:52.019902",
     "status": "completed"
    },
    "tags": []
   },
   "outputs": [],
   "source": [
    "# def create_df():\n",
    "#     test_images = glob.glob(TEST_IMAGES)\n",
    "#     test = pd.DataFrame(test_images, columns = ['path'])\n",
    "#     return test"
   ]
  },
  {
   "cell_type": "code",
   "execution_count": 35,
   "metadata": {
    "execution": {
     "iopub.execute_input": "2021-01-29T07:04:52.142474Z",
     "iopub.status.busy": "2021-01-29T07:04:52.141666Z",
     "iopub.status.idle": "2021-01-29T07:04:52.144493Z",
     "shell.execute_reply": "2021-01-29T07:04:52.144067Z"
    },
    "papermill": {
     "duration": 0.043681,
     "end_time": "2021-01-29T07:04:52.144584",
     "exception": false,
     "start_time": "2021-01-29T07:04:52.100903",
     "status": "completed"
    },
    "tags": []
   },
   "outputs": [],
   "source": [
    "# test_set = create_df()"
   ]
  },
  {
   "cell_type": "code",
   "execution_count": 36,
   "metadata": {
    "execution": {
     "iopub.execute_input": "2021-01-29T07:04:52.224804Z",
     "iopub.status.busy": "2021-01-29T07:04:52.223965Z",
     "iopub.status.idle": "2021-01-29T07:04:52.226774Z",
     "shell.execute_reply": "2021-01-29T07:04:52.226329Z"
    },
    "papermill": {
     "duration": 0.044461,
     "end_time": "2021-01-29T07:04:52.226863",
     "exception": false,
     "start_time": "2021-01-29T07:04:52.182402",
     "status": "completed"
    },
    "tags": []
   },
   "outputs": [],
   "source": [
    "# test_set"
   ]
  },
  {
   "cell_type": "code",
   "execution_count": 37,
   "metadata": {
    "execution": {
     "iopub.execute_input": "2021-01-29T07:04:52.306610Z",
     "iopub.status.busy": "2021-01-29T07:04:52.305935Z",
     "iopub.status.idle": "2021-01-29T07:04:52.308960Z",
     "shell.execute_reply": "2021-01-29T07:04:52.308465Z"
    },
    "papermill": {
     "duration": 0.043779,
     "end_time": "2021-01-29T07:04:52.309064",
     "exception": false,
     "start_time": "2021-01-29T07:04:52.265285",
     "status": "completed"
    },
    "tags": []
   },
   "outputs": [],
   "source": [
    "# def TFDataGenerator(test_set):\n",
    "#     test_data = datagen_train.flow_from_dataframe(test_set,\n",
    "#                              seed=42,\n",
    "#                              x_col = 'path',\n",
    "#                              y_col = None,\n",
    "#                              class_mode = None,\n",
    "#                              interpolation = 'nearest',\n",
    "#                              target_size = size,\n",
    "#                              shuffle = True,\n",
    "#                              batch_size = BATCH_SIZE)\n",
    "#     return test_data"
   ]
  },
  {
   "cell_type": "code",
   "execution_count": 38,
   "metadata": {
    "execution": {
     "iopub.execute_input": "2021-01-29T07:04:52.389046Z",
     "iopub.status.busy": "2021-01-29T07:04:52.388286Z",
     "iopub.status.idle": "2021-01-29T07:04:52.391135Z",
     "shell.execute_reply": "2021-01-29T07:04:52.390532Z"
    },
    "papermill": {
     "duration": 0.044215,
     "end_time": "2021-01-29T07:04:52.391242",
     "exception": false,
     "start_time": "2021-01-29T07:04:52.347027",
     "status": "completed"
    },
    "tags": []
   },
   "outputs": [],
   "source": [
    "# test_data = TFDataGenerator(test_set)"
   ]
  },
  {
   "cell_type": "code",
   "execution_count": 39,
   "metadata": {
    "execution": {
     "iopub.execute_input": "2021-01-29T07:04:52.471580Z",
     "iopub.status.busy": "2021-01-29T07:04:52.470701Z",
     "iopub.status.idle": "2021-01-29T07:04:52.473188Z",
     "shell.execute_reply": "2021-01-29T07:04:52.473623Z"
    },
    "papermill": {
     "duration": 0.044468,
     "end_time": "2021-01-29T07:04:52.473725",
     "exception": false,
     "start_time": "2021-01-29T07:04:52.429257",
     "status": "completed"
    },
    "tags": []
   },
   "outputs": [],
   "source": [
    "# def predict_test(test_data, model):\n",
    "#     count = 3\n",
    "#     predictions = []\n",
    "#     for i in range(count):\n",
    "#         preds = model.predict_generator(test_data)\n",
    "#         predictions.append(preds)\n",
    "#     predictions = np.mean(predictions, axis=0)\n",
    "#     return predictions"
   ]
  },
  {
   "cell_type": "code",
   "execution_count": 40,
   "metadata": {
    "execution": {
     "iopub.execute_input": "2021-01-29T07:04:52.555598Z",
     "iopub.status.busy": "2021-01-29T07:04:52.554844Z",
     "iopub.status.idle": "2021-01-29T07:04:52.557715Z",
     "shell.execute_reply": "2021-01-29T07:04:52.557196Z"
    },
    "papermill": {
     "duration": 0.045855,
     "end_time": "2021-01-29T07:04:52.557801",
     "exception": false,
     "start_time": "2021-01-29T07:04:52.511946",
     "status": "completed"
    },
    "tags": []
   },
   "outputs": [],
   "source": [
    "# preds = []\n",
    "# for model in models:\n",
    "#     preds.append(predict_test(test_data, model))"
   ]
  },
  {
   "cell_type": "code",
   "execution_count": 41,
   "metadata": {
    "execution": {
     "iopub.execute_input": "2021-01-29T07:04:52.637647Z",
     "iopub.status.busy": "2021-01-29T07:04:52.636863Z",
     "iopub.status.idle": "2021-01-29T07:04:52.639864Z",
     "shell.execute_reply": "2021-01-29T07:04:52.639395Z"
    },
    "papermill": {
     "duration": 0.044188,
     "end_time": "2021-01-29T07:04:52.639956",
     "exception": false,
     "start_time": "2021-01-29T07:04:52.595768",
     "status": "completed"
    },
    "tags": []
   },
   "outputs": [],
   "source": [
    "# preds = []\n",
    "# preds.append(predict_test(test_data, model))"
   ]
  },
  {
   "cell_type": "code",
   "execution_count": 42,
   "metadata": {
    "execution": {
     "iopub.execute_input": "2021-01-29T07:04:52.720749Z",
     "iopub.status.busy": "2021-01-29T07:04:52.719963Z",
     "iopub.status.idle": "2021-01-29T07:04:52.722745Z",
     "shell.execute_reply": "2021-01-29T07:04:52.722322Z"
    },
    "papermill": {
     "duration": 0.044582,
     "end_time": "2021-01-29T07:04:52.722838",
     "exception": false,
     "start_time": "2021-01-29T07:04:52.678256",
     "status": "completed"
    },
    "tags": []
   },
   "outputs": [],
   "source": [
    "# preds"
   ]
  },
  {
   "cell_type": "code",
   "execution_count": 43,
   "metadata": {
    "execution": {
     "iopub.execute_input": "2021-01-29T07:04:52.804737Z",
     "iopub.status.busy": "2021-01-29T07:04:52.803930Z",
     "iopub.status.idle": "2021-01-29T07:04:52.806789Z",
     "shell.execute_reply": "2021-01-29T07:04:52.806367Z"
    },
    "papermill": {
     "duration": 0.04503,
     "end_time": "2021-01-29T07:04:52.806881",
     "exception": false,
     "start_time": "2021-01-29T07:04:52.761851",
     "status": "completed"
    },
    "tags": []
   },
   "outputs": [],
   "source": [
    "# np.mean(preds, axis=0)"
   ]
  },
  {
   "cell_type": "code",
   "execution_count": 44,
   "metadata": {
    "execution": {
     "iopub.execute_input": "2021-01-29T07:04:52.889013Z",
     "iopub.status.busy": "2021-01-29T07:04:52.888282Z",
     "iopub.status.idle": "2021-01-29T07:04:52.891373Z",
     "shell.execute_reply": "2021-01-29T07:04:52.890814Z"
    },
    "papermill": {
     "duration": 0.045752,
     "end_time": "2021-01-29T07:04:52.891468",
     "exception": false,
     "start_time": "2021-01-29T07:04:52.845716",
     "status": "completed"
    },
    "tags": []
   },
   "outputs": [],
   "source": [
    "# mean_pred = np.mean(preds, axis=0)\n",
    "# mean_pred = np.argmax(mean_pred, axis=-1)"
   ]
  },
  {
   "cell_type": "code",
   "execution_count": 45,
   "metadata": {
    "execution": {
     "iopub.execute_input": "2021-01-29T07:04:52.972306Z",
     "iopub.status.busy": "2021-01-29T07:04:52.971601Z",
     "iopub.status.idle": "2021-01-29T07:04:52.974552Z",
     "shell.execute_reply": "2021-01-29T07:04:52.974139Z"
    },
    "papermill": {
     "duration": 0.04476,
     "end_time": "2021-01-29T07:04:52.974640",
     "exception": false,
     "start_time": "2021-01-29T07:04:52.929880",
     "status": "completed"
    },
    "tags": []
   },
   "outputs": [],
   "source": [
    "# mean_pred"
   ]
  },
  {
   "cell_type": "code",
   "execution_count": 46,
   "metadata": {
    "execution": {
     "iopub.execute_input": "2021-01-29T07:04:53.056233Z",
     "iopub.status.busy": "2021-01-29T07:04:53.055475Z",
     "iopub.status.idle": "2021-01-29T07:04:53.058389Z",
     "shell.execute_reply": "2021-01-29T07:04:53.057946Z"
    },
    "papermill": {
     "duration": 0.045012,
     "end_time": "2021-01-29T07:04:53.058478",
     "exception": false,
     "start_time": "2021-01-29T07:04:53.013466",
     "status": "completed"
    },
    "tags": []
   },
   "outputs": [],
   "source": [
    "# test_set['image_id'] = test_set['path'].apply(lambda x: x.split('/')[-1])\n",
    "# test_set['label'] = mean_pred\n",
    "# test_set"
   ]
  },
  {
   "cell_type": "code",
   "execution_count": 47,
   "metadata": {
    "execution": {
     "iopub.execute_input": "2021-01-29T07:04:53.139610Z",
     "iopub.status.busy": "2021-01-29T07:04:53.138855Z",
     "iopub.status.idle": "2021-01-29T07:04:53.141168Z",
     "shell.execute_reply": "2021-01-29T07:04:53.141651Z"
    },
    "papermill": {
     "duration": 0.04466,
     "end_time": "2021-01-29T07:04:53.141763",
     "exception": false,
     "start_time": "2021-01-29T07:04:53.097103",
     "status": "completed"
    },
    "tags": []
   },
   "outputs": [],
   "source": [
    "# os.chdir(\"../../../working\")"
   ]
  },
  {
   "cell_type": "code",
   "execution_count": 48,
   "metadata": {
    "execution": {
     "iopub.execute_input": "2021-01-29T07:04:53.223868Z",
     "iopub.status.busy": "2021-01-29T07:04:53.223144Z",
     "iopub.status.idle": "2021-01-29T07:04:53.226042Z",
     "shell.execute_reply": "2021-01-29T07:04:53.225494Z"
    },
    "papermill": {
     "duration": 0.045236,
     "end_time": "2021-01-29T07:04:53.226130",
     "exception": false,
     "start_time": "2021-01-29T07:04:53.180894",
     "status": "completed"
    },
    "tags": []
   },
   "outputs": [],
   "source": [
    "# !pwd"
   ]
  },
  {
   "cell_type": "code",
   "execution_count": 49,
   "metadata": {
    "execution": {
     "iopub.execute_input": "2021-01-29T07:04:53.308210Z",
     "iopub.status.busy": "2021-01-29T07:04:53.307457Z",
     "iopub.status.idle": "2021-01-29T07:04:53.310399Z",
     "shell.execute_reply": "2021-01-29T07:04:53.309891Z"
    },
    "papermill": {
     "duration": 0.045385,
     "end_time": "2021-01-29T07:04:53.310505",
     "exception": false,
     "start_time": "2021-01-29T07:04:53.265120",
     "status": "completed"
    },
    "tags": []
   },
   "outputs": [],
   "source": [
    "# test_set[['image_id','label']].to_csv('submission.csv', index=False)"
   ]
  },
  {
   "cell_type": "markdown",
   "metadata": {
    "papermill": {
     "duration": 0.039569,
     "end_time": "2021-01-29T07:04:53.389040",
     "exception": false,
     "start_time": "2021-01-29T07:04:53.349471",
     "status": "completed"
    },
    "tags": []
   },
   "source": [
    "# New inference"
   ]
  },
  {
   "cell_type": "code",
   "execution_count": 50,
   "metadata": {
    "execution": {
     "iopub.execute_input": "2021-01-29T07:04:53.472880Z",
     "iopub.status.busy": "2021-01-29T07:04:53.472014Z",
     "iopub.status.idle": "2021-01-29T07:04:53.474912Z",
     "shell.execute_reply": "2021-01-29T07:04:53.474496Z"
    },
    "papermill": {
     "duration": 0.046465,
     "end_time": "2021-01-29T07:04:53.475023",
     "exception": false,
     "start_time": "2021-01-29T07:04:53.428558",
     "status": "completed"
    },
    "tags": []
   },
   "outputs": [],
   "source": [
    "from PIL import Image"
   ]
  },
  {
   "cell_type": "code",
   "execution_count": 51,
   "metadata": {
    "execution": {
     "iopub.execute_input": "2021-01-29T07:04:53.560955Z",
     "iopub.status.busy": "2021-01-29T07:04:53.560382Z",
     "iopub.status.idle": "2021-01-29T07:05:45.766594Z",
     "shell.execute_reply": "2021-01-29T07:05:45.766089Z"
    },
    "papermill": {
     "duration": 52.251862,
     "end_time": "2021-01-29T07:05:45.766703",
     "exception": false,
     "start_time": "2021-01-29T07:04:53.514841",
     "status": "completed"
    },
    "tags": []
   },
   "outputs": [],
   "source": [
    "models = []\n",
    "model_list = os.listdir(\"../input/effnet-888-folds\")\n",
    "for model in model_list:\n",
    "    models.append(keras.models.load_model(f'../input/effnet-888-folds/{model}'))"
   ]
  },
  {
   "cell_type": "code",
   "execution_count": 52,
   "metadata": {
    "execution": {
     "iopub.execute_input": "2021-01-29T07:05:45.850536Z",
     "iopub.status.busy": "2021-01-29T07:05:45.849940Z",
     "iopub.status.idle": "2021-01-29T07:05:56.540906Z",
     "shell.execute_reply": "2021-01-29T07:05:56.541502Z"
    },
    "papermill": {
     "duration": 10.734649,
     "end_time": "2021-01-29T07:05:56.541650",
     "exception": false,
     "start_time": "2021-01-29T07:05:45.807001",
     "status": "completed"
    },
    "tags": []
   },
   "outputs": [],
   "source": [
    "models.append(keras.models.load_model(r\"../input/effnetcassava/Cassava_best_model.h5\"))"
   ]
  },
  {
   "cell_type": "code",
   "execution_count": 53,
   "metadata": {
    "execution": {
     "iopub.execute_input": "2021-01-29T07:05:56.631375Z",
     "iopub.status.busy": "2021-01-29T07:05:56.630381Z",
     "iopub.status.idle": "2021-01-29T07:05:56.634667Z",
     "shell.execute_reply": "2021-01-29T07:05:56.634072Z"
    },
    "papermill": {
     "duration": 0.048662,
     "end_time": "2021-01-29T07:05:56.634770",
     "exception": false,
     "start_time": "2021-01-29T07:05:56.586108",
     "status": "completed"
    },
    "tags": []
   },
   "outputs": [],
   "source": [
    "# TEST_DIR = '../input/cassava-leaf-disease-classification/test_images/'\n",
    "# test_images = os.listdir(TEST_DIR)\n",
    "# preds = []\n",
    "# pred=[]\n",
    "# for image in test_images:\n",
    "#     img = Image.open(TEST_DIR + image)\n",
    "#     img = img.resize(size)\n",
    "#     img = np.expand_dims(img, axis=0)\n",
    "#     for model in models:\n",
    "#         preds.append(np.argmax(model.predict(img)))\n",
    "#     pred.append(max(set(preds), key=preds.count))\n",
    "# #     pred.extend(stats.mode(predictions)[0][0])"
   ]
  },
  {
   "cell_type": "code",
   "execution_count": 54,
   "metadata": {
    "execution": {
     "iopub.execute_input": "2021-01-29T07:05:56.728347Z",
     "iopub.status.busy": "2021-01-29T07:05:56.727703Z",
     "iopub.status.idle": "2021-01-29T07:05:56.732071Z",
     "shell.execute_reply": "2021-01-29T07:05:56.731620Z"
    },
    "papermill": {
     "duration": 0.057192,
     "end_time": "2021-01-29T07:05:56.732188",
     "exception": false,
     "start_time": "2021-01-29T07:05:56.674996",
     "status": "completed"
    },
    "tags": []
   },
   "outputs": [],
   "source": [
    "import tensorflow as tf"
   ]
  },
  {
   "cell_type": "code",
   "execution_count": 55,
   "metadata": {
    "execution": {
     "iopub.execute_input": "2021-01-29T07:05:56.839739Z",
     "iopub.status.busy": "2021-01-29T07:05:56.839157Z",
     "iopub.status.idle": "2021-01-29T07:06:11.424134Z",
     "shell.execute_reply": "2021-01-29T07:06:11.423617Z"
    },
    "papermill": {
     "duration": 14.636085,
     "end_time": "2021-01-29T07:06:11.424248",
     "exception": false,
     "start_time": "2021-01-29T07:05:56.788163",
     "status": "completed"
    },
    "tags": []
   },
   "outputs": [],
   "source": [
    "TEST_DIR = '../input/cassava-leaf-disease-classification/test_images/'\n",
    "submission = pd.DataFrame(columns=['image_id','label'])\n",
    "for image_name in os.listdir(TEST_DIR):\n",
    "    preds = np.empty((0,6))\n",
    "    image_path = os.path.join(TEST_DIR, image_name)\n",
    "    image = tf.keras.preprocessing.image.load_img(image_path)\n",
    "    resized_image = image.resize(size)\n",
    "    numpied_image = np.expand_dims(resized_image, 0)\n",
    "    tensored_image = tf.cast(numpied_image, tf.float32)\n",
    "    for model in models:\n",
    "        preds = np.append(preds,model.predict_classes(tensored_image))\n",
    "        preds = preds.astype(int)\n",
    "    counts = np.bincount(preds)\n",
    "\n",
    "    submission = submission.append(pd.DataFrame({'image_id': image_name,\n",
    "                        'label': np.array([np.argmax(counts)])}))"
   ]
  },
  {
   "cell_type": "code",
   "execution_count": 56,
   "metadata": {
    "execution": {
     "iopub.execute_input": "2021-01-29T07:06:11.514278Z",
     "iopub.status.busy": "2021-01-29T07:06:11.513652Z",
     "iopub.status.idle": "2021-01-29T07:06:11.522296Z",
     "shell.execute_reply": "2021-01-29T07:06:11.522711Z"
    },
    "papermill": {
     "duration": 0.058133,
     "end_time": "2021-01-29T07:06:11.522822",
     "exception": false,
     "start_time": "2021-01-29T07:06:11.464689",
     "status": "completed"
    },
    "tags": []
   },
   "outputs": [
    {
     "data": {
      "text/html": [
       "<div>\n",
       "<style scoped>\n",
       "    .dataframe tbody tr th:only-of-type {\n",
       "        vertical-align: middle;\n",
       "    }\n",
       "\n",
       "    .dataframe tbody tr th {\n",
       "        vertical-align: top;\n",
       "    }\n",
       "\n",
       "    .dataframe thead th {\n",
       "        text-align: right;\n",
       "    }\n",
       "</style>\n",
       "<table border=\"1\" class=\"dataframe\">\n",
       "  <thead>\n",
       "    <tr style=\"text-align: right;\">\n",
       "      <th></th>\n",
       "      <th>image_id</th>\n",
       "      <th>label</th>\n",
       "    </tr>\n",
       "  </thead>\n",
       "  <tbody>\n",
       "    <tr>\n",
       "      <th>0</th>\n",
       "      <td>2216849948.jpg</td>\n",
       "      <td>4</td>\n",
       "    </tr>\n",
       "  </tbody>\n",
       "</table>\n",
       "</div>"
      ],
      "text/plain": [
       "         image_id label\n",
       "0  2216849948.jpg     4"
      ]
     },
     "execution_count": 56,
     "metadata": {},
     "output_type": "execute_result"
    }
   ],
   "source": [
    "submission"
   ]
  },
  {
   "cell_type": "code",
   "execution_count": 57,
   "metadata": {
    "execution": {
     "iopub.execute_input": "2021-01-29T07:06:11.607080Z",
     "iopub.status.busy": "2021-01-29T07:06:11.606338Z",
     "iopub.status.idle": "2021-01-29T07:06:11.784857Z",
     "shell.execute_reply": "2021-01-29T07:06:11.783887Z"
    },
    "papermill": {
     "duration": 0.22228,
     "end_time": "2021-01-29T07:06:11.785009",
     "exception": false,
     "start_time": "2021-01-29T07:06:11.562729",
     "status": "completed"
    },
    "tags": []
   },
   "outputs": [],
   "source": [
    "submission.to_csv('./submission.csv', index = False)"
   ]
  },
  {
   "cell_type": "code",
   "execution_count": null,
   "metadata": {
    "papermill": {
     "duration": 0.040391,
     "end_time": "2021-01-29T07:06:11.866449",
     "exception": false,
     "start_time": "2021-01-29T07:06:11.826058",
     "status": "completed"
    },
    "tags": []
   },
   "outputs": [],
   "source": []
  }
 ],
 "metadata": {
  "kernelspec": {
   "display_name": "Python 3",
   "language": "python",
   "name": "python3"
  },
  "language_info": {
   "codemirror_mode": {
    "name": "ipython",
    "version": 3
   },
   "file_extension": ".py",
   "mimetype": "text/x-python",
   "name": "python",
   "nbconvert_exporter": "python",
   "pygments_lexer": "ipython3",
   "version": "3.7.6"
  },
  "papermill": {
   "duration": 105.907713,
   "end_time": "2021-01-29T07:06:13.899118",
   "environment_variables": {},
   "exception": null,
   "input_path": "__notebook__.ipynb",
   "output_path": "__notebook__.ipynb",
   "parameters": {},
   "start_time": "2021-01-29T07:04:27.991405",
   "version": "2.1.0"
  }
 },
 "nbformat": 4,
 "nbformat_minor": 4
}
